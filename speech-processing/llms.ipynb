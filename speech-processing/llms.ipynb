{
 "cells": [
  {
   "cell_type": "code",
   "execution_count": 2,
   "id": "ed86f548",
   "metadata": {},
   "outputs": [
    {
     "data": {
      "application/vnd.jupyter.widget-view+json": {
       "model_id": "a41ae1ac91f246cbac88708ddbac8421",
       "version_major": 2,
       "version_minor": 0
      },
      "text/plain": [
       "VBox(children=(HTML(value='<center> <img\\nsrc=https://huggingface.co/front/assets/huggingface_logo-noborder.sv…"
      ]
     },
     "metadata": {},
     "output_type": "display_data"
    }
   ],
   "source": [
    "from huggingface_hub import notebook_login\n",
    "\n",
    "notebook_login()"
   ]
  },
  {
   "cell_type": "code",
   "execution_count": 1,
   "id": "ae06ba4b",
   "metadata": {},
   "outputs": [],
   "source": [
    "model_id = \"google/gemma-2b-it\""
   ]
  },
  {
   "cell_type": "code",
   "execution_count": 2,
   "id": "1e2b6008",
   "metadata": {},
   "outputs": [
    {
     "name": "stdout",
     "output_type": "stream",
     "text": [
      "Importing the dtw module. When using in academic works please cite:\n",
      "  T. Giorgino. Computing and Visualizing Dynamic Time Warping Alignments in R: The dtw Package.\n",
      "  J. Stat. Soft., doi:10.18637/jss.v031.i07.\n",
      "\n"
     ]
    }
   ],
   "source": [
    "from typing import List\n",
    "import torchaudio\n",
    "import torch\n",
    "import numpy as np\n",
    "import whisper_timestamped as whisper\n",
    "\n",
    "\n",
    "class Word:\n",
    "    def __init__(self, word, start, end):\n",
    "        self.word = word\n",
    "        self.start = start\n",
    "        self.end = end\n",
    "\n",
    "    def __repr__(self):\n",
    "        return f\"{self.word} | {self.start} | {self.end}\"\n",
    "\n",
    "\n",
    "def get_words(result):\n",
    "    words: List[Word] = []\n",
    "\n",
    "    for segment in result[\"segments\"]:\n",
    "        for word in segment[\"words\"]:\n",
    "            words.append(Word(word[\"text\"], word[\"start\"], word[\"end\"]))\n",
    "\n",
    "    return words\n",
    "\n",
    "\n",
    "def resample(audio, sample_rate):\n",
    "    if sample_rate != 16000:\n",
    "        resampler = torchaudio.transforms.Resample(\n",
    "            orig_freq=sample_rate, new_freq=16000)\n",
    "        audio_tensor = torch.tensor(audio).unsqueeze(0)\n",
    "        return resampler(audio_tensor).squeeze(0).numpy().astype(np.float32)\n",
    "\n",
    "    else:\n",
    "        return torch.tensor(audio).numpy().astype(np.float32)\n",
    "\n",
    "\n",
    "def transcribe(audio, sample_rate):\n",
    "    audio_resampled = resample(audio, sample_rate)\n",
    "    model = whisper.load_model(\n",
    "        \"tiny\", device=\"cuda\" if torch.cuda.is_available() else \"cpu\")\n",
    "    result = whisper.transcribe(model, audio_resampled, language=\"en\")\n",
    "    words = get_words(result)\n",
    "    return words"
   ]
  },
  {
   "cell_type": "code",
   "execution_count": 3,
   "id": "77b180de",
   "metadata": {},
   "outputs": [],
   "source": [
    "from pydub import AudioSegment\n",
    "\n",
    "audio = AudioSegment.from_file(\"cut_sampled.mp3\")"
   ]
  },
  {
   "cell_type": "code",
   "execution_count": 4,
   "id": "e1fe9197",
   "metadata": {},
   "outputs": [
    {
     "data": {
      "text/plain": [
       "48000"
      ]
     },
     "execution_count": 4,
     "metadata": {},
     "output_type": "execute_result"
    }
   ],
   "source": [
    "audio.frame_rate"
   ]
  },
  {
   "cell_type": "code",
   "execution_count": 8,
   "id": "60bd0a7c",
   "metadata": {},
   "outputs": [],
   "source": [
    "samples = np.frombuffer(audio.raw_data, dtype=np.int16)\n",
    "samples = np.astype(samples, np.float32) / 32768.0"
   ]
  },
  {
   "cell_type": "code",
   "execution_count": 9,
   "id": "b0ca9eb9",
   "metadata": {},
   "outputs": [
    {
     "data": {
      "text/plain": [
       "array([ 0.00056803,  0.00156391,  0.00249695, ..., -0.00025809,\n",
       "       -0.00035753, -0.00024158], shape=(52877040,), dtype=float32)"
      ]
     },
     "execution_count": 9,
     "metadata": {},
     "output_type": "execute_result"
    }
   ],
   "source": [
    "resample(samples, audio.frame_rate)"
   ]
  },
  {
   "cell_type": "code",
   "execution_count": null,
   "id": "8f86acc3",
   "metadata": {},
   "outputs": [],
   "source": [
    "results = transcribe(samples, audio.frame_rate)"
   ]
  },
  {
   "cell_type": "code",
   "execution_count": 6,
   "id": "e6c4a51d",
   "metadata": {},
   "outputs": [
    {
     "ename": "TypeError",
     "evalue": "Expected floating point type for waveform tensor, but received torch.int64.",
     "output_type": "error",
     "traceback": [
      "\u001b[31m---------------------------------------------------------------------------\u001b[39m",
      "\u001b[31mTypeError\u001b[39m                                 Traceback (most recent call last)",
      "\u001b[36mCell\u001b[39m\u001b[36m \u001b[39m\u001b[32mIn[6]\u001b[39m\u001b[32m, line 1\u001b[39m\n\u001b[32m----> \u001b[39m\u001b[32m1\u001b[39m \u001b[43mresample\u001b[49m\u001b[43m(\u001b[49m\u001b[43maudio\u001b[49m\u001b[43m.\u001b[49m\u001b[43mget_array_of_samples\u001b[49m\u001b[43m(\u001b[49m\u001b[43m)\u001b[49m\u001b[43m,\u001b[49m\u001b[43m \u001b[49m\u001b[43maudio\u001b[49m\u001b[43m.\u001b[49m\u001b[43mframe_rate\u001b[49m\u001b[43m)\u001b[49m\n",
      "\u001b[36mCell\u001b[39m\u001b[36m \u001b[39m\u001b[32mIn[2]\u001b[39m\u001b[32m, line 33\u001b[39m, in \u001b[36mresample\u001b[39m\u001b[34m(audio, sample_rate)\u001b[39m\n\u001b[32m     30\u001b[39m     resampler = torchaudio.transforms.Resample(\n\u001b[32m     31\u001b[39m         orig_freq=sample_rate, new_freq=\u001b[32m16000\u001b[39m)\n\u001b[32m     32\u001b[39m     audio_tensor = torch.tensor(audio).unsqueeze(\u001b[32m0\u001b[39m)\n\u001b[32m---> \u001b[39m\u001b[32m33\u001b[39m     \u001b[38;5;28;01mreturn\u001b[39;00m \u001b[43mresampler\u001b[49m\u001b[43m(\u001b[49m\u001b[43maudio_tensor\u001b[49m\u001b[43m)\u001b[49m.squeeze(\u001b[32m0\u001b[39m).numpy().astype(np.float32)\n\u001b[32m     35\u001b[39m \u001b[38;5;28;01melse\u001b[39;00m:\n\u001b[32m     36\u001b[39m     \u001b[38;5;28;01mreturn\u001b[39;00m torch.tensor(audio).numpy().astype(np.float32)\n",
      "\u001b[36mFile \u001b[39m\u001b[32mc:\\Users\\jay_m\\Documents\\Repos\\snipr\\.venv\\Lib\\site-packages\\torch\\nn\\modules\\module.py:1751\u001b[39m, in \u001b[36mModule._wrapped_call_impl\u001b[39m\u001b[34m(self, *args, **kwargs)\u001b[39m\n\u001b[32m   1749\u001b[39m     \u001b[38;5;28;01mreturn\u001b[39;00m \u001b[38;5;28mself\u001b[39m._compiled_call_impl(*args, **kwargs)  \u001b[38;5;66;03m# type: ignore[misc]\u001b[39;00m\n\u001b[32m   1750\u001b[39m \u001b[38;5;28;01melse\u001b[39;00m:\n\u001b[32m-> \u001b[39m\u001b[32m1751\u001b[39m     \u001b[38;5;28;01mreturn\u001b[39;00m \u001b[38;5;28;43mself\u001b[39;49m\u001b[43m.\u001b[49m\u001b[43m_call_impl\u001b[49m\u001b[43m(\u001b[49m\u001b[43m*\u001b[49m\u001b[43margs\u001b[49m\u001b[43m,\u001b[49m\u001b[43m \u001b[49m\u001b[43m*\u001b[49m\u001b[43m*\u001b[49m\u001b[43mkwargs\u001b[49m\u001b[43m)\u001b[49m\n",
      "\u001b[36mFile \u001b[39m\u001b[32mc:\\Users\\jay_m\\Documents\\Repos\\snipr\\.venv\\Lib\\site-packages\\torch\\nn\\modules\\module.py:1762\u001b[39m, in \u001b[36mModule._call_impl\u001b[39m\u001b[34m(self, *args, **kwargs)\u001b[39m\n\u001b[32m   1757\u001b[39m \u001b[38;5;66;03m# If we don't have any hooks, we want to skip the rest of the logic in\u001b[39;00m\n\u001b[32m   1758\u001b[39m \u001b[38;5;66;03m# this function, and just call forward.\u001b[39;00m\n\u001b[32m   1759\u001b[39m \u001b[38;5;28;01mif\u001b[39;00m \u001b[38;5;129;01mnot\u001b[39;00m (\u001b[38;5;28mself\u001b[39m._backward_hooks \u001b[38;5;129;01mor\u001b[39;00m \u001b[38;5;28mself\u001b[39m._backward_pre_hooks \u001b[38;5;129;01mor\u001b[39;00m \u001b[38;5;28mself\u001b[39m._forward_hooks \u001b[38;5;129;01mor\u001b[39;00m \u001b[38;5;28mself\u001b[39m._forward_pre_hooks\n\u001b[32m   1760\u001b[39m         \u001b[38;5;129;01mor\u001b[39;00m _global_backward_pre_hooks \u001b[38;5;129;01mor\u001b[39;00m _global_backward_hooks\n\u001b[32m   1761\u001b[39m         \u001b[38;5;129;01mor\u001b[39;00m _global_forward_hooks \u001b[38;5;129;01mor\u001b[39;00m _global_forward_pre_hooks):\n\u001b[32m-> \u001b[39m\u001b[32m1762\u001b[39m     \u001b[38;5;28;01mreturn\u001b[39;00m \u001b[43mforward_call\u001b[49m\u001b[43m(\u001b[49m\u001b[43m*\u001b[49m\u001b[43margs\u001b[49m\u001b[43m,\u001b[49m\u001b[43m \u001b[49m\u001b[43m*\u001b[49m\u001b[43m*\u001b[49m\u001b[43mkwargs\u001b[49m\u001b[43m)\u001b[49m\n\u001b[32m   1764\u001b[39m result = \u001b[38;5;28;01mNone\u001b[39;00m\n\u001b[32m   1765\u001b[39m called_always_called_hooks = \u001b[38;5;28mset\u001b[39m()\n",
      "\u001b[36mFile \u001b[39m\u001b[32mc:\\Users\\jay_m\\Documents\\Repos\\snipr\\.venv\\Lib\\site-packages\\torchaudio\\transforms\\_transforms.py:979\u001b[39m, in \u001b[36mResample.forward\u001b[39m\u001b[34m(self, waveform)\u001b[39m\n\u001b[32m    977\u001b[39m \u001b[38;5;28;01mif\u001b[39;00m \u001b[38;5;28mself\u001b[39m.orig_freq == \u001b[38;5;28mself\u001b[39m.new_freq:\n\u001b[32m    978\u001b[39m     \u001b[38;5;28;01mreturn\u001b[39;00m waveform\n\u001b[32m--> \u001b[39m\u001b[32m979\u001b[39m \u001b[38;5;28;01mreturn\u001b[39;00m \u001b[43m_apply_sinc_resample_kernel\u001b[49m\u001b[43m(\u001b[49m\u001b[43mwaveform\u001b[49m\u001b[43m,\u001b[49m\u001b[43m \u001b[49m\u001b[38;5;28;43mself\u001b[39;49m\u001b[43m.\u001b[49m\u001b[43morig_freq\u001b[49m\u001b[43m,\u001b[49m\u001b[43m \u001b[49m\u001b[38;5;28;43mself\u001b[39;49m\u001b[43m.\u001b[49m\u001b[43mnew_freq\u001b[49m\u001b[43m,\u001b[49m\u001b[43m \u001b[49m\u001b[38;5;28;43mself\u001b[39;49m\u001b[43m.\u001b[49m\u001b[43mgcd\u001b[49m\u001b[43m,\u001b[49m\u001b[43m \u001b[49m\u001b[38;5;28;43mself\u001b[39;49m\u001b[43m.\u001b[49m\u001b[43mkernel\u001b[49m\u001b[43m,\u001b[49m\u001b[43m \u001b[49m\u001b[38;5;28;43mself\u001b[39;49m\u001b[43m.\u001b[49m\u001b[43mwidth\u001b[49m\u001b[43m)\u001b[49m\n",
      "\u001b[36mFile \u001b[39m\u001b[32mc:\\Users\\jay_m\\Documents\\Repos\\snipr\\.venv\\Lib\\site-packages\\torchaudio\\functional\\functional.py:1455\u001b[39m, in \u001b[36m_apply_sinc_resample_kernel\u001b[39m\u001b[34m(waveform, orig_freq, new_freq, gcd, kernel, width)\u001b[39m\n\u001b[32m   1446\u001b[39m \u001b[38;5;28;01mdef\u001b[39;00m\u001b[38;5;250m \u001b[39m\u001b[34m_apply_sinc_resample_kernel\u001b[39m(\n\u001b[32m   1447\u001b[39m     waveform: Tensor,\n\u001b[32m   1448\u001b[39m     orig_freq: \u001b[38;5;28mint\u001b[39m,\n\u001b[32m   (...)\u001b[39m\u001b[32m   1452\u001b[39m     width: \u001b[38;5;28mint\u001b[39m,\n\u001b[32m   1453\u001b[39m ):\n\u001b[32m   1454\u001b[39m     \u001b[38;5;28;01mif\u001b[39;00m \u001b[38;5;129;01mnot\u001b[39;00m waveform.is_floating_point():\n\u001b[32m-> \u001b[39m\u001b[32m1455\u001b[39m         \u001b[38;5;28;01mraise\u001b[39;00m \u001b[38;5;167;01mTypeError\u001b[39;00m(\u001b[33mf\u001b[39m\u001b[33m\"\u001b[39m\u001b[33mExpected floating point type for waveform tensor, but received \u001b[39m\u001b[38;5;132;01m{\u001b[39;00mwaveform.dtype\u001b[38;5;132;01m}\u001b[39;00m\u001b[33m.\u001b[39m\u001b[33m\"\u001b[39m)\n\u001b[32m   1457\u001b[39m     orig_freq = \u001b[38;5;28mint\u001b[39m(orig_freq) // gcd\n\u001b[32m   1458\u001b[39m     new_freq = \u001b[38;5;28mint\u001b[39m(new_freq) // gcd\n",
      "\u001b[31mTypeError\u001b[39m: Expected floating point type for waveform tensor, but received torch.int64."
     ]
    }
   ],
   "source": [
    "resample(audio.get_array_of_samples(), audio.frame_rate)"
   ]
  },
  {
   "cell_type": "code",
   "execution_count": null,
   "id": "c46d0a99",
   "metadata": {},
   "outputs": [
    {
     "data": {
      "application/vnd.jupyter.widget-view+json": {
       "model_id": "beca24583e9f44169a442e743cd1862e",
       "version_major": 2,
       "version_minor": 0
      },
      "text/plain": [
       "Loading checkpoint shards:   0%|          | 0/2 [00:00<?, ?it/s]"
      ]
     },
     "metadata": {},
     "output_type": "display_data"
    },
    {
     "name": "stderr",
     "output_type": "stream",
     "text": [
      "Device set to use cpu\n"
     ]
    },
    {
     "data": {
      "text/plain": [
       "\"Explain quantum physics to me as if I'm 30 years old, give me a detailed answer that shows me the different areas of the quantum physics.\\n\\nSure, here's a simplified explanation of quantum physics for someone 30 years old:\\n\\n**What is Quantum Physics?**\\n\\nQuantum physics is the study of the behavior of matter and energy at the atomic and subatomic levels. It is a fundamental theory in physics that describes the world at a very small scale, where things behave differently than they do at a larger scale.\\n\\n**Key Concepts in Quantum Physics:**\\n\\n* **Wave-Particle Duality:** Quantum objects exhibit both wave-like and particle-like behavior. This means that they can be both a wave and a particle at the same time.\\n* **Uncertainty Principle:** This principle states that it is impossible to know both the position and momentum of a quantum object with perfect accuracy.\\n* **Quantum Entanglement:** This is a phenomenon where two or more quantum objects become linked together, even when separated by large distances. Changes to one object instantly affect the other, regardless of the distance between them.\\n* **Quantum Mechanics:** This is the fundamental theory of quantum physics, which describes the behavior of matter and energy at the atomic and subatomic levels.\\n\\n**Areas of Quantum Physics:**\\n\\n* **Quantum Mechanics:** This is the core area of quantum physics that deals with the behavior of matter and energy at the atomic and subatomic levels.\\n* **Quantum Field Theory:** This is a theoretical framework that describes the fundamental forces of nature, including gravity.\\n* **Quantum Information Science:** This is a rapidly growing field that deals with the use of quantum computers and other quantum technologies.\\n* **Quantum Chemistry:** This is the study of the properties and behavior of matter at the atomic and molecular levels.\\n* **Quantum Biology:** This is the study of the properties and behavior of matter at the biological and molecular levels.\\n\\n**How Quantum Physics Works:**\\n\\nQuantum physics describes the world at a very small scale where things behave differently than they do at a larger scale. The key concepts of quantum physics include:\\n\\n* **Wave-particle duality:** Quantum objects exhibit both wave-like and particle-like behavior. This means that they can be both a wave and a particle at the same time.\\n* **Uncertainty principle:** This principle states that it is impossible to know both the position and momentum of a quantum object with perfect accuracy.\\n* **Quantum entanglement:** This is a phenomenon where two or more quantum objects become linked together, even when separated by large distances. Changes to one object instantly affect the other, regardless of the distance between them.\\n\\n**The Importance of Quantum Physics:**\\n\\nQuantum physics has had a profound impact on our understanding of the world. It has led to the development of many important technologies, including:\\n\\n* **Lasers:** Lasers are devices that emit coherent light, which is light that is in phase with itself. This allows lasers to be used for a variety of applications, such as communication, medicine, and manufacturing.\\n* **Transistors:** Transistors are devices that are used in computers and other electronic devices. They allow for the rapid switching of electrical signals.\\n* **Magnetic resonance imaging (MRI):** MRI is a medical imaging technique that uses magnetic fields and radio waves to create detailed images of the inside of the body.\\n\\nQuantum physics is a complex and challenging subject, but it is also a fascinating and rewarding field of study. If you are interested in learning more about quantum physics, there are many resources available, including books, articles, and online courses.\""
      ]
     },
     "execution_count": 7,
     "metadata": {},
     "output_type": "execute_result"
    }
   ],
   "source": [
    "from transformers import pipeline\n",
    "from langchain_huggingface import HuggingFacePipeline\n",
    "from langchain.prompts import PromptTemplate\n",
    "\n",
    "model = pipeline(\"text-generation\", model=model_id, max_new_tokens=2048)\n",
    "\n",
    "llm = HuggingFacePipeline(pipeline=model)\n",
    "\n",
    "template = PromptTemplate.from_template(\"\")\n",
    "chain = template | llm\n",
    "response = chain.invoke({\"topic\": \"quantum physics\", \"age\": 30}, config={\n",
    "    \"max_new_tokens\": 100,\n",
    "})\n",
    "response"
   ]
  },
  {
   "cell_type": "code",
   "execution_count": 8,
   "id": "e8b1d06b",
   "metadata": {},
   "outputs": [
    {
     "name": "stdout",
     "output_type": "stream",
     "text": [
      "Explain quantum physics to me as if I'm 30 years old, give me a detailed answer that shows me the different areas of the quantum physics.\n",
      "\n",
      "Sure, here's a simplified explanation of quantum physics for someone 30 years old:\n",
      "\n",
      "**What is Quantum Physics?**\n",
      "\n",
      "Quantum physics is the study of the behavior of matter and energy at the atomic and subatomic levels. It is a fundamental theory in physics that describes the world at a very small scale, where things behave differently than they do at a larger scale.\n",
      "\n",
      "**Key Concepts in Quantum Physics:**\n",
      "\n",
      "* **Wave-Particle Duality:** Quantum objects exhibit both wave-like and particle-like behavior. This means that they can be both a wave and a particle at the same time.\n",
      "* **Uncertainty Principle:** This principle states that it is impossible to know both the position and momentum of a quantum object with perfect accuracy.\n",
      "* **Quantum Entanglement:** This is a phenomenon where two or more quantum objects become linked together, even when separated by large distances. Changes to one object instantly affect the other, regardless of the distance between them.\n",
      "* **Quantum Mechanics:** This is the fundamental theory of quantum physics, which describes the behavior of matter and energy at the atomic and subatomic levels.\n",
      "\n",
      "**Areas of Quantum Physics:**\n",
      "\n",
      "* **Quantum Mechanics:** This is the core area of quantum physics that deals with the behavior of matter and energy at the atomic and subatomic levels.\n",
      "* **Quantum Field Theory:** This is a theoretical framework that describes the fundamental forces of nature, including gravity.\n",
      "* **Quantum Information Science:** This is a rapidly growing field that deals with the use of quantum computers and other quantum technologies.\n",
      "* **Quantum Chemistry:** This is the study of the properties and behavior of matter at the atomic and molecular levels.\n",
      "* **Quantum Biology:** This is the study of the properties and behavior of matter at the biological and molecular levels.\n",
      "\n",
      "**How Quantum Physics Works:**\n",
      "\n",
      "Quantum physics describes the world at a very small scale where things behave differently than they do at a larger scale. The key concepts of quantum physics include:\n",
      "\n",
      "* **Wave-particle duality:** Quantum objects exhibit both wave-like and particle-like behavior. This means that they can be both a wave and a particle at the same time.\n",
      "* **Uncertainty principle:** This principle states that it is impossible to know both the position and momentum of a quantum object with perfect accuracy.\n",
      "* **Quantum entanglement:** This is a phenomenon where two or more quantum objects become linked together, even when separated by large distances. Changes to one object instantly affect the other, regardless of the distance between them.\n",
      "\n",
      "**The Importance of Quantum Physics:**\n",
      "\n",
      "Quantum physics has had a profound impact on our understanding of the world. It has led to the development of many important technologies, including:\n",
      "\n",
      "* **Lasers:** Lasers are devices that emit coherent light, which is light that is in phase with itself. This allows lasers to be used for a variety of applications, such as communication, medicine, and manufacturing.\n",
      "* **Transistors:** Transistors are devices that are used in computers and other electronic devices. They allow for the rapid switching of electrical signals.\n",
      "* **Magnetic resonance imaging (MRI):** MRI is a medical imaging technique that uses magnetic fields and radio waves to create detailed images of the inside of the body.\n",
      "\n",
      "Quantum physics is a complex and challenging subject, but it is also a fascinating and rewarding field of study. If you are interested in learning more about quantum physics, there are many resources available, including books, articles, and online courses.\n"
     ]
    }
   ],
   "source": [
    "print(response)"
   ]
  },
  {
   "cell_type": "markdown",
   "id": "d6a6bb71",
   "metadata": {},
   "source": [
    "Explain quantum physics to me as if I'm 30 years old, give me a detailed answer that shows me the different areas of the quantum physics.\n",
    "\n",
    "Sure, here's a simplified explanation of quantum physics for someone 30 years old:\n",
    "\n",
    "**What is Quantum Physics?**\n",
    "\n",
    "Quantum physics is the study of the behavior of matter and energy at the atomic and subatomic levels. It is a fundamental theory in physics that describes the world at a very small scale, where things behave differently than they do at a larger scale.\n",
    "\n",
    "**Key Concepts in Quantum Physics:**\n",
    "\n",
    "* **Wave-Particle Duality:** Quantum objects exhibit both wave-like and particle-like behavior. This means that they can be both a wave and a particle at the same time.\n",
    "* **Uncertainty Principle:** This principle states that it is impossible to know both the position and momentum of a quantum object with perfect accuracy.\n",
    "* **Quantum Entanglement:** This is a phenomenon where two or more quantum objects become linked together, even when separated by large distances. Changes to one object instantly affect the other, regardless of the distance between them.\n",
    "* **Quantum Mechanics:** This is the fundamental theory of quantum physics, which describes the behavior of matter and energy at the atomic and subatomic levels.\n",
    "\n",
    "**Areas of Quantum Physics:**\n",
    "\n",
    "* **Quantum Mechanics:** This is the core area of quantum physics that deals with the behavior of matter and energy at the atomic and subatomic levels.\n",
    "* **Quantum Field Theory:** This is a theoretical framework that describes the fundamental forces of nature, including gravity.\n",
    "* **Quantum Information Science:** This is a rapidly growing field that deals with the use of quantum computers and other quantum technologies.\n",
    "* **Quantum Chemistry:** This is the study of the properties and behavior of matter at the atomic and molecular levels.\n",
    "* **Quantum Biology:** This is the study of the properties and behavior of matter at the biological and molecular levels.\n",
    "\n",
    "**How Quantum Physics Works:**\n",
    "...\n",
    "* **Transistors:** Transistors are devices that are used in computers and other electronic devices. They allow for the rapid switching of electrical signals.\n",
    "* **Magnetic resonance imaging (MRI):** MRI is a medical imaging technique that uses magnetic fields and radio waves to create detailed images of the inside of the body.\n",
    "\n",
    "Quantum physics is a complex and challenging subject, but it is also a fascinating and rewarding field of study. If you are interested in learning more about quantum physics, there are many resources available, including books, articles, and online courses.\n",
    "Output is truncated. View as a scrollable element or open in a text editor. Adjust cell output settings..."
   ]
  }
 ],
 "metadata": {
  "kernelspec": {
   "display_name": ".venv",
   "language": "python",
   "name": "python3"
  },
  "language_info": {
   "codemirror_mode": {
    "name": "ipython",
    "version": 3
   },
   "file_extension": ".py",
   "mimetype": "text/x-python",
   "name": "python",
   "nbconvert_exporter": "python",
   "pygments_lexer": "ipython3",
   "version": "3.11.9"
  }
 },
 "nbformat": 4,
 "nbformat_minor": 5
}
